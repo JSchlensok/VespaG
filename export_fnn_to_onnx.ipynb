{
 "cells": [
  {
   "cell_type": "markdown",
   "metadata": {},
   "source": [
    "# Export des FNN Models\n",
    "Da es zwei Modelle (FNN und CNN) gibt, werden beide einzeln nach onnx konvertiert und eingebaut"
   ]
  },
  {
   "cell_type": "code",
   "execution_count": 1,
   "metadata": {},
   "outputs": [],
   "source": [
    "from vespag.utils import load_model, get_device\n",
    "from vespag.utils.type_hinting import Architecture, EmbeddingType\n",
    "import torch\n",
    "from vespag.models import fnn, cnn\n",
    "\n",
    "# copied from vespag.utils \"DEFAULT_MODEL_PARAMETERS\"\n",
    "params = {\n",
    "    \"architecture\": Architecture.fnn,\n",
    "    \"model_parameters\": {\"hidden_dims\": [256], \"dropout_rate\": 0.2},\n",
    "    \"embedding_type\": EmbeddingType.esm2,\n",
    "    \"onnx_model_path\": \"\"\n",
    "}\n",
    "\n",
    "device = get_device()\n",
    "fnn_model = load_model(**params).eval().to(device, dtype=torch.float)"
   ]
  },
  {
   "cell_type": "code",
   "execution_count": 20,
   "metadata": {},
   "outputs": [],
   "source": [
    "from pathlib import Path\n",
    "from vespag.utils import get_embedding_dim\n",
    "\n",
    "\n",
    "def export_vespag_fnn_to_onnx(fnn_model:fnn, onnx_dir_path:str, params:dict) -> None:\n",
    "    \n",
    "    if not Path(onnx_dir_path).exists():\n",
    "        Path.mkdir(onnx_dir_path)\n",
    "    onnx_file_path = f'{onnx_dir_path}/fnn.onnx'\n",
    "    batch_size = 2\n",
    "    input_length = get_embedding_dim(params['embedding_type'])\n",
    "\n",
    "    x = torch.randn(batch_size, 10, input_length)\n",
    "    torch.onnx.export(\n",
    "    fnn_model,                           # model being run\n",
    "    x,                                   # model input (or a tuple for multiple inputs)\n",
    "    onnx_file_path,                      # where to save the model\n",
    "    export_params=True,                  # store the trained parameter weights inside the model file\n",
    "    opset_version=12,                    # the ONNX version to export the model to\n",
    "    do_constant_folding=True,            # whether to execute constant folding for optimization\n",
    "    input_names=['input'],               # the model's input names\n",
    "    output_names=['output'],             # the model's output names\n",
    "    dynamic_axes={'input': {0: 'batch_size', 1: 'sequence_length', 2: 'embedding_size'},# variable length axes\n",
    "                    'output': {0: 'batch_size'}}\n",
    "    )\n",
    "    print(f'Model has been successfully exported to {onnx_file_path}')"
   ]
  },
  {
   "cell_type": "code",
   "execution_count": 21,
   "metadata": {},
   "outputs": [
    {
     "name": "stdout",
     "output_type": "stream",
     "text": [
      "Model has been successfully exported to /home/paula/projects/biocentral/vespag/onnx_models/fnn.onnx\n"
     ]
    },
    {
     "name": "stderr",
     "output_type": "stream",
     "text": [
      "/home/paula/projects/biocentral/vespag/venv/lib/python3.12/site-packages/torch/onnx/symbolic_opset11.py:899: UserWarning: This model contains a squeeze operation on dimension 2. The size of this dimension in the given input is 20. The model will be exported without the squeeze node. If the model is intended to be used with dynamic input shapes, please export with dynamic_axes argument.\n",
      "  warnings.warn(\n"
     ]
    }
   ],
   "source": [
    "root_dir = Path.cwd()\n",
    "onnx_dir_path = f'{root_dir}/onnx_models'\n",
    "export_vespag_fnn_to_onnx(fnn_model=fnn_model, onnx_dir_path=onnx_dir_path, params=params)"
   ]
  },
  {
   "cell_type": "markdown",
   "metadata": {},
   "source": [
    "# Testen ob die Ergebnisse identisch sind"
   ]
  },
  {
   "cell_type": "code",
   "execution_count": 6,
   "metadata": {},
   "outputs": [],
   "source": [
    "import pandas as pd\n",
    "\n",
    "original_results = pd.read_csv('output/vespag_scores_all_org.csv')\n",
    "onnx_results = pd.read_csv('output/vespag_scores_all_onnx.csv')"
   ]
  },
  {
   "cell_type": "code",
   "execution_count": 16,
   "metadata": {},
   "outputs": [
    {
     "data": {
      "text/html": [
       "<div>\n",
       "<style scoped>\n",
       "    .dataframe tbody tr th:only-of-type {\n",
       "        vertical-align: middle;\n",
       "    }\n",
       "\n",
       "    .dataframe tbody tr th {\n",
       "        vertical-align: top;\n",
       "    }\n",
       "\n",
       "    .dataframe thead tr th {\n",
       "        text-align: left;\n",
       "    }\n",
       "</style>\n",
       "<table border=\"1\" class=\"dataframe\">\n",
       "  <thead>\n",
       "    <tr>\n",
       "      <th></th>\n",
       "      <th colspan=\"2\" halign=\"left\">VespaG</th>\n",
       "    </tr>\n",
       "    <tr>\n",
       "      <th></th>\n",
       "      <th>self</th>\n",
       "      <th>other</th>\n",
       "    </tr>\n",
       "  </thead>\n",
       "  <tbody>\n",
       "    <tr>\n",
       "      <th>0</th>\n",
       "      <td>0.117311270116262605922585748885467182844877243...</td>\n",
       "      <td>0.117311333330984493561466308619856135919690132...</td>\n",
       "    </tr>\n",
       "    <tr>\n",
       "      <th>1</th>\n",
       "      <td>0.082738412807202496579428441236814251169562339...</td>\n",
       "      <td>0.082738483280551194942731285664194729179143905...</td>\n",
       "    </tr>\n",
       "    <tr>\n",
       "      <th>2</th>\n",
       "      <td>-0.11772366176011249405686243107993504963815212...</td>\n",
       "      <td>-0.11772354919943039952556773641845211386680603...</td>\n",
       "    </tr>\n",
       "    <tr>\n",
       "      <th>3</th>\n",
       "      <td>-0.18746656643736309133529971404641401022672653...</td>\n",
       "      <td>-0.18746643923404660014853106986265629529953002...</td>\n",
       "    </tr>\n",
       "    <tr>\n",
       "      <th>4</th>\n",
       "      <td>-0.07681562571595799970847195936585194431245326...</td>\n",
       "      <td>-0.07681552174398340038230514892347855493426322...</td>\n",
       "    </tr>\n",
       "    <tr>\n",
       "      <th>...</th>\n",
       "      <td>...</td>\n",
       "      <td>...</td>\n",
       "    </tr>\n",
       "    <tr>\n",
       "      <th>5448</th>\n",
       "      <td>0.720043148284801759473339188843965530395507812...</td>\n",
       "      <td>0.720043084955001022606779770285356789827346801...</td>\n",
       "    </tr>\n",
       "    <tr>\n",
       "      <th>5449</th>\n",
       "      <td>0.729664666226049529740294019575230777263641357...</td>\n",
       "      <td>0.729664600876195557077608100371435284614562988...</td>\n",
       "    </tr>\n",
       "    <tr>\n",
       "      <th>5450</th>\n",
       "      <td>0.605876766541208144900565457646735012531280517...</td>\n",
       "      <td>0.605876727180821861296067254443187266588211059...</td>\n",
       "    </tr>\n",
       "    <tr>\n",
       "      <th>5451</th>\n",
       "      <td>0.415064978604241296977761521702632308006286621...</td>\n",
       "      <td>0.415064979305095393957714122734614647924900054...</td>\n",
       "    </tr>\n",
       "    <tr>\n",
       "      <th>5452</th>\n",
       "      <td>0.440193945312100320954584731225622817873954772...</td>\n",
       "      <td>0.440193940737087674452965302407392300665378570...</td>\n",
       "    </tr>\n",
       "  </tbody>\n",
       "</table>\n",
       "<p>5453 rows × 2 columns</p>\n",
       "</div>"
      ],
      "text/plain": [
       "                                                 VespaG  \\\n",
       "                                                   self   \n",
       "0    0.117311270116262605922585748885467182844877243...   \n",
       "1    0.082738412807202496579428441236814251169562339...   \n",
       "2    -0.11772366176011249405686243107993504963815212...   \n",
       "3    -0.18746656643736309133529971404641401022672653...   \n",
       "4    -0.07681562571595799970847195936585194431245326...   \n",
       "...                                                 ...   \n",
       "5448 0.720043148284801759473339188843965530395507812...   \n",
       "5449 0.729664666226049529740294019575230777263641357...   \n",
       "5450 0.605876766541208144900565457646735012531280517...   \n",
       "5451 0.415064978604241296977761521702632308006286621...   \n",
       "5452 0.440193945312100320954584731225622817873954772...   \n",
       "\n",
       "                                                         \n",
       "                                                  other  \n",
       "0    0.117311333330984493561466308619856135919690132...  \n",
       "1    0.082738483280551194942731285664194729179143905...  \n",
       "2    -0.11772354919943039952556773641845211386680603...  \n",
       "3    -0.18746643923404660014853106986265629529953002...  \n",
       "4    -0.07681552174398340038230514892347855493426322...  \n",
       "...                                                 ...  \n",
       "5448 0.720043084955001022606779770285356789827346801...  \n",
       "5449 0.729664600876195557077608100371435284614562988...  \n",
       "5450 0.605876727180821861296067254443187266588211059...  \n",
       "5451 0.415064979305095393957714122734614647924900054...  \n",
       "5452 0.440193940737087674452965302407392300665378570...  \n",
       "\n",
       "[5453 rows x 2 columns]"
      ]
     },
     "execution_count": 16,
     "metadata": {},
     "output_type": "execute_result"
    }
   ],
   "source": [
    "pd.options.display.float_format = '{:.100f}'.format\n",
    "\n",
    "comparison = original_results.compare(onnx_results)\n",
    "comparison[comparison['VespaG']['self']!=comparison['VespaG']['other']]"
   ]
  },
  {
   "cell_type": "code",
   "execution_count": 19,
   "metadata": {},
   "outputs": [
    {
     "name": "stdout",
     "output_type": "stream",
     "text": [
      "0      -0.00000006321472188763888055973438895307481288...\n",
      "1      -0.00000007047334869836330284442738047800958156...\n",
      "2      -0.00000011256068209453129469466148293577134609...\n",
      "3      -0.00000012720331649118676864418375771492719650...\n",
      "4      -0.00000010397197459932616681044237338937819004...\n",
      "                              ...                        \n",
      "5448   0.000000063329800736866559418558608740568161010...\n",
      "5449   0.000000065349853972662685919203795492649078369...\n",
      "5450   0.000000039360386283604498203203547745943069458...\n",
      "5451   -0.00000000070085409697995260103198233991861343...\n",
      "5452   0.000000004575012646501619428818230517208576202...\n",
      "Name: diff, Length: 5453, dtype: float64\n",
      "0.00023994055454412688\n",
      "-0.0004840852139935681\n"
     ]
    }
   ],
   "source": [
    "comparison['diff'] = comparison['VespaG']['self'] - comparison['VespaG']['other']\n",
    "print(comparison['diff'])\n",
    "print(comparison['diff'].max())\n",
    "print(comparison['diff'].min())"
   ]
  }
 ],
 "metadata": {
  "kernelspec": {
   "display_name": "venv",
   "language": "python",
   "name": "python3"
  },
  "language_info": {
   "codemirror_mode": {
    "name": "ipython",
    "version": 3
   },
   "file_extension": ".py",
   "mimetype": "text/x-python",
   "name": "python",
   "nbconvert_exporter": "python",
   "pygments_lexer": "ipython3",
   "version": "3.12.3"
  }
 },
 "nbformat": 4,
 "nbformat_minor": 2
}
